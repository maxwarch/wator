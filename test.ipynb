{
 "cells": [
  {
   "cell_type": "code",
   "execution_count": 39,
   "metadata": {},
   "outputs": [
    {
     "data": {
      "text/plain": [
       "array([[0, 1, 2, 3, 4, 5, 6, 7],\n",
       "       [0, 1, 2, 3, 4, 5, 6, 7],\n",
       "       [0, 1, 2, 3, 4, 5, 6, 7],\n",
       "       [0, 1, 2, 3, 4, 5, 6, 7],\n",
       "       [0, 1, 2, 3, 4, 5, 6, 7],\n",
       "       [0, 1, 2, 3, 4, 5, 6, 7]])"
      ]
     },
     "execution_count": 39,
     "metadata": {},
     "output_type": "execute_result"
    }
   ],
   "source": [
    "import numpy as np\n",
    "\n",
    "tab = []\n",
    "rows = range(0, 6)\n",
    "cols = np.array(range(0, 8))\n",
    "for row in rows:\n",
    "    tab.append(cols)\n",
    "\n",
    "mesh = np.array(tab)\n",
    "mesh\n"
   ]
  },
  {
   "cell_type": "code",
   "execution_count": 5,
   "metadata": {},
   "outputs": [
    {
     "name": "stdout",
     "output_type": "stream",
     "text": [
      "{'nbFish': 1, 'nbShark': 10}\n"
     ]
    }
   ],
   "source": [
    "def test(**kwargs):\n",
    "    options = {\n",
    "                'nbFish' : 50,\n",
    "                'nbShark' : 10\n",
    "            }\n",
    "\n",
    "    options.update(kwargs)\n",
    "    print(options)\n",
    "    #nbFish = kwargs.pop('nbFish') or 50\n",
    "    #nbShark = 10 if kwargs.pop('nbShark') is None else 10\n",
    "    #print(nbFish, nbShark)\n",
    "\n",
    "test(nbFish=1)"
   ]
  },
  {
   "cell_type": "code",
   "execution_count": 10,
   "metadata": {},
   "outputs": [
    {
     "name": "stdout",
     "output_type": "stream",
     "text": [
      "Original array:  [1, 2, 3, 4, 5, 6]\n",
      "Shuffled array:  [1, 2, 4, 3, 6, 5]\n"
     ]
    }
   ],
   "source": [
    "import random\n",
    "import array\n",
    " \n",
    "# Assign array\n",
    "# here q indicates that the array\n",
    "# contains signed integer\n",
    "arr = [1, 2, 3, 4, 5, 6]\n",
    " \n",
    "# Display original array\n",
    "print(\"Original array: \", arr)\n",
    " \n",
    "# Shuffle array\n",
    "# Here sample() returns a list, so we\n",
    "# are typecasting list into array\n",
    "arr = random.sample(list(arr), 6)\n",
    " \n",
    "# Display shuffled array\n",
    "print(\"Shuffled array: \", arr)"
   ]
  }
 ],
 "metadata": {
  "kernelspec": {
   "display_name": ".venv",
   "language": "python",
   "name": "python3"
  },
  "language_info": {
   "codemirror_mode": {
    "name": "ipython",
    "version": 3
   },
   "file_extension": ".py",
   "mimetype": "text/x-python",
   "name": "python",
   "nbconvert_exporter": "python",
   "pygments_lexer": "ipython3",
   "version": "3.10.9"
  }
 },
 "nbformat": 4,
 "nbformat_minor": 2
}
